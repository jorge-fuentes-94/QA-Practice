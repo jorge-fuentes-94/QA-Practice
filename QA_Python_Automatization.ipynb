{
  "nbformat": 4,
  "nbformat_minor": 0,
  "metadata": {
    "colab": {
      "provenance": []
    },
    "kernelspec": {
      "name": "python3",
      "display_name": "Python 3"
    },
    "language_info": {
      "name": "python"
    }
  },
  "cells": [
    {
      "cell_type": "markdown",
      "source": [
        "# Inicio y preparación"
      ],
      "metadata": {
        "id": "B9PY9NlrOyH6"
      }
    },
    {
      "cell_type": "markdown",
      "source": [
        "Buenos días, en este Jupyter Notebook hay un código pensado para automatizar el proceso de una prueba de QA utilizando la API de Star Wars (SWAPI).\n",
        "\n",
        "Las pruebas están hechas de manera manual utilizando el lenguaje de programación Python. Para facilitar la comprobación de las pruebas, el uso de esta herramienta que permite ejecutar código (completo o en partes) sin necesidad de instalar nada.\n",
        "\n",
        "Este ejercicio es una prueba de automatización con varios ejercicios para comprobar el funcionamiento de una API.\n"
      ],
      "metadata": {
        "id": "t551y983JBuE"
      }
    },
    {
      "cell_type": "markdown",
      "source": [
        "##Instrucciones de uso:\n",
        "* En cada bloque de código hay un botón de play que permite reproducir el bloque de código interno.\n",
        "* Cada vez que se abre la página por primera vez, hay que reproducir el bloque de código primero (justo debajo de este) para que el resto de códigos funcionen, ya que incluyen funciones necesarios en el resto de códigos.\n",
        "* La Jupyter Notebook realiza una conexión con Google a la hora de ejecutar el código, así que dependiendo del tráfico puede haber más lentitud a la hora de ejecutar el código."
      ],
      "metadata": {
        "id": "h-9H3eZ8NDYU"
      }
    },
    {
      "cell_type": "markdown",
      "source": [
        "# Código inicial (Imprescindible para que el resto funcionen)"
      ],
      "metadata": {
        "id": "YyVm6vPvNR_m"
      }
    },
    {
      "cell_type": "markdown",
      "source": [
        "Como primer paso vamos a hacer dos funciones:\n",
        "- Una primera función que haga la llamada de la API a la que le podamos añadir datos.\n",
        "- Una segunda función que compruebe si el resultado obtenido es el mismo que el esperado y, si no, devuelva un error. Así mismo, también detecta si lo que queremos medir es un código de respuesta, para convertir la respuesta de la APi en un código (200 ó 404 para esta prueba)."
      ],
      "metadata": {
        "id": "BZf9TD-3Iucd"
      }
    },
    {
      "cell_type": "code",
      "source": [
        "import requests\n",
        "\n",
        "def apiCall (library):\n",
        "    api_url = \"https://swapi.dev/api\"+library\n",
        "    response = requests.get(api_url)\n",
        "    return response\n",
        "\n",
        "\n",
        "def checkResponse (response, expected_result):\n",
        "  if expected_result == 200 or expected_result == 404:\n",
        "    final_response = response.status_code\n",
        "  else:\n",
        "    final_response = response\n",
        "\n",
        "  if final_response != expected_result:\n",
        "    raise Exception (f\"El resultado no es correcto. El resultado debería ser {expected_result} y es {final_response}.\")\n"
      ],
      "metadata": {
        "id": "uz7FpO_fIsXw"
      },
      "execution_count": 2,
      "outputs": []
    },
    {
      "cell_type": "markdown",
      "source": [
        "A la hora de automatizar esta prueba hemos de empezar haciendo una prueba mínima para comprobar que la API funciona. En este caso, hacemos una llamada a la SWAPI y comprobamos que funciona y devuelve un estado 200 OK antes de empezar."
      ],
      "metadata": {
        "id": "w3FBN0ntIfpk"
      }
    },
    {
      "cell_type": "code",
      "source": [
        "SWAPI = apiCall(\"/\")\n",
        "\n",
        "Check_SWAPI = checkResponse(SWAPI, 200)\n",
        "\n"
      ],
      "metadata": {
        "id": "nQ_WT0cyJN4S"
      },
      "execution_count": null,
      "outputs": []
    },
    {
      "cell_type": "markdown",
      "source": [
        "# Primer Caso - Sacar la lista de Naves Espaciales"
      ],
      "metadata": {
        "id": "dUJW7gVOO4q5"
      }
    },
    {
      "cell_type": "markdown",
      "source": [
        "Nos movemos al primer caso. En este caso hacemos una llamada a la tabla de spaceships. Para asegurarnos de que nos devuelve el resultado correcto, llamamos a la función para que compruebe que devuelve un resultado 200 OK."
      ],
      "metadata": {
        "id": "36AJQK0qM2hA"
      }
    },
    {
      "cell_type": "code",
      "source": [
        "starship_list = apiCall(\"/starships/\")\n",
        "\n",
        "check_starship_list = checkResponse(starship_list,200)\n",
        "\n",
        "print(starship_list.json())\n"
      ],
      "metadata": {
        "id": "D7JDInwcNb0D",
        "colab": {
          "base_uri": "https://localhost:8080/"
        },
        "outputId": "328d57da-8970-49ab-dc60-e2b7cd30c3b9"
      },
      "execution_count": null,
      "outputs": [
        {
          "output_type": "stream",
          "name": "stdout",
          "text": [
            "{'count': 36, 'next': 'https://swapi.dev/api/starships/?page=2', 'previous': None, 'results': [{'name': 'CR90 corvette', 'model': 'CR90 corvette', 'manufacturer': 'Corellian Engineering Corporation', 'cost_in_credits': '3500000', 'length': '150', 'max_atmosphering_speed': '950', 'crew': '30-165', 'passengers': '600', 'cargo_capacity': '3000000', 'consumables': '1 year', 'hyperdrive_rating': '2.0', 'MGLT': '60', 'starship_class': 'corvette', 'pilots': [], 'films': ['https://swapi.dev/api/films/1/', 'https://swapi.dev/api/films/3/', 'https://swapi.dev/api/films/6/'], 'created': '2014-12-10T14:20:33.369000Z', 'edited': '2014-12-20T21:23:49.867000Z', 'url': 'https://swapi.dev/api/starships/2/'}, {'name': 'Star Destroyer', 'model': 'Imperial I-class Star Destroyer', 'manufacturer': 'Kuat Drive Yards', 'cost_in_credits': '150000000', 'length': '1,600', 'max_atmosphering_speed': '975', 'crew': '47,060', 'passengers': 'n/a', 'cargo_capacity': '36000000', 'consumables': '2 years', 'hyperdrive_rating': '2.0', 'MGLT': '60', 'starship_class': 'Star Destroyer', 'pilots': [], 'films': ['https://swapi.dev/api/films/1/', 'https://swapi.dev/api/films/2/', 'https://swapi.dev/api/films/3/'], 'created': '2014-12-10T15:08:19.848000Z', 'edited': '2014-12-20T21:23:49.870000Z', 'url': 'https://swapi.dev/api/starships/3/'}, {'name': 'Sentinel-class landing craft', 'model': 'Sentinel-class landing craft', 'manufacturer': 'Sienar Fleet Systems, Cyngus Spaceworks', 'cost_in_credits': '240000', 'length': '38', 'max_atmosphering_speed': '1000', 'crew': '5', 'passengers': '75', 'cargo_capacity': '180000', 'consumables': '1 month', 'hyperdrive_rating': '1.0', 'MGLT': '70', 'starship_class': 'landing craft', 'pilots': [], 'films': ['https://swapi.dev/api/films/1/'], 'created': '2014-12-10T15:48:00.586000Z', 'edited': '2014-12-20T21:23:49.873000Z', 'url': 'https://swapi.dev/api/starships/5/'}, {'name': 'Death Star', 'model': 'DS-1 Orbital Battle Station', 'manufacturer': 'Imperial Department of Military Research, Sienar Fleet Systems', 'cost_in_credits': '1000000000000', 'length': '120000', 'max_atmosphering_speed': 'n/a', 'crew': '342,953', 'passengers': '843,342', 'cargo_capacity': '1000000000000', 'consumables': '3 years', 'hyperdrive_rating': '4.0', 'MGLT': '10', 'starship_class': 'Deep Space Mobile Battlestation', 'pilots': [], 'films': ['https://swapi.dev/api/films/1/'], 'created': '2014-12-10T16:36:50.509000Z', 'edited': '2014-12-20T21:26:24.783000Z', 'url': 'https://swapi.dev/api/starships/9/'}, {'name': 'Millennium Falcon', 'model': 'YT-1300 light freighter', 'manufacturer': 'Corellian Engineering Corporation', 'cost_in_credits': '100000', 'length': '34.37', 'max_atmosphering_speed': '1050', 'crew': '4', 'passengers': '6', 'cargo_capacity': '100000', 'consumables': '2 months', 'hyperdrive_rating': '0.5', 'MGLT': '75', 'starship_class': 'Light freighter', 'pilots': ['https://swapi.dev/api/people/13/', 'https://swapi.dev/api/people/14/', 'https://swapi.dev/api/people/25/', 'https://swapi.dev/api/people/31/'], 'films': ['https://swapi.dev/api/films/1/', 'https://swapi.dev/api/films/2/', 'https://swapi.dev/api/films/3/'], 'created': '2014-12-10T16:59:45.094000Z', 'edited': '2014-12-20T21:23:49.880000Z', 'url': 'https://swapi.dev/api/starships/10/'}, {'name': 'Y-wing', 'model': 'BTL Y-wing', 'manufacturer': 'Koensayr Manufacturing', 'cost_in_credits': '134999', 'length': '14', 'max_atmosphering_speed': '1000km', 'crew': '2', 'passengers': '0', 'cargo_capacity': '110', 'consumables': '1 week', 'hyperdrive_rating': '1.0', 'MGLT': '80', 'starship_class': 'assault starfighter', 'pilots': [], 'films': ['https://swapi.dev/api/films/1/', 'https://swapi.dev/api/films/2/', 'https://swapi.dev/api/films/3/'], 'created': '2014-12-12T11:00:39.817000Z', 'edited': '2014-12-20T21:23:49.883000Z', 'url': 'https://swapi.dev/api/starships/11/'}, {'name': 'X-wing', 'model': 'T-65 X-wing', 'manufacturer': 'Incom Corporation', 'cost_in_credits': '149999', 'length': '12.5', 'max_atmosphering_speed': '1050', 'crew': '1', 'passengers': '0', 'cargo_capacity': '110', 'consumables': '1 week', 'hyperdrive_rating': '1.0', 'MGLT': '100', 'starship_class': 'Starfighter', 'pilots': ['https://swapi.dev/api/people/1/', 'https://swapi.dev/api/people/9/', 'https://swapi.dev/api/people/18/', 'https://swapi.dev/api/people/19/'], 'films': ['https://swapi.dev/api/films/1/', 'https://swapi.dev/api/films/2/', 'https://swapi.dev/api/films/3/'], 'created': '2014-12-12T11:19:05.340000Z', 'edited': '2014-12-20T21:23:49.886000Z', 'url': 'https://swapi.dev/api/starships/12/'}, {'name': 'TIE Advanced x1', 'model': 'Twin Ion Engine Advanced x1', 'manufacturer': 'Sienar Fleet Systems', 'cost_in_credits': 'unknown', 'length': '9.2', 'max_atmosphering_speed': '1200', 'crew': '1', 'passengers': '0', 'cargo_capacity': '150', 'consumables': '5 days', 'hyperdrive_rating': '1.0', 'MGLT': '105', 'starship_class': 'Starfighter', 'pilots': ['https://swapi.dev/api/people/4/'], 'films': ['https://swapi.dev/api/films/1/'], 'created': '2014-12-12T11:21:32.991000Z', 'edited': '2014-12-20T21:23:49.889000Z', 'url': 'https://swapi.dev/api/starships/13/'}, {'name': 'Executor', 'model': 'Executor-class star dreadnought', 'manufacturer': 'Kuat Drive Yards, Fondor Shipyards', 'cost_in_credits': '1143350000', 'length': '19000', 'max_atmosphering_speed': 'n/a', 'crew': '279,144', 'passengers': '38000', 'cargo_capacity': '250000000', 'consumables': '6 years', 'hyperdrive_rating': '2.0', 'MGLT': '40', 'starship_class': 'Star dreadnought', 'pilots': [], 'films': ['https://swapi.dev/api/films/2/', 'https://swapi.dev/api/films/3/'], 'created': '2014-12-15T12:31:42.547000Z', 'edited': '2014-12-20T21:23:49.893000Z', 'url': 'https://swapi.dev/api/starships/15/'}, {'name': 'Rebel transport', 'model': 'GR-75 medium transport', 'manufacturer': 'Gallofree Yards, Inc.', 'cost_in_credits': 'unknown', 'length': '90', 'max_atmosphering_speed': '650', 'crew': '6', 'passengers': '90', 'cargo_capacity': '19000000', 'consumables': '6 months', 'hyperdrive_rating': '4.0', 'MGLT': '20', 'starship_class': 'Medium transport', 'pilots': [], 'films': ['https://swapi.dev/api/films/2/', 'https://swapi.dev/api/films/3/'], 'created': '2014-12-15T12:34:52.264000Z', 'edited': '2014-12-20T21:23:49.895000Z', 'url': 'https://swapi.dev/api/starships/17/'}]}\n"
          ]
        }
      ]
    },
    {
      "cell_type": "markdown",
      "source": [
        "#Segundo Caso - Buscar Personaje con ID 99"
      ],
      "metadata": {
        "id": "8aYEOMeoT_1E"
      }
    },
    {
      "cell_type": "markdown",
      "source": [
        "En el segundo caso hacemos una llamada a character para buscar la id 99. En este caso hacemos una llamada a la SWAPI añadiendo ID 99. Volvemos a usar la función para comprobar si devuelve un resultado o un error.\n",
        "\n",
        "(En este caso, sabemos que no existe un personaje con ID 99 así que dará error 404)."
      ],
      "metadata": {
        "id": "4UMJUGQGXNFq"
      }
    },
    {
      "cell_type": "code",
      "source": [
        "character_99 = apiCall(\"/people/99\")\n",
        "\n",
        "check_character_99 = checkResponse(character_99,200)"
      ],
      "metadata": {
        "id": "l-uTi8BPUFNl",
        "colab": {
          "base_uri": "https://localhost:8080/",
          "height": 297
        },
        "outputId": "8deed2d2-a9ef-425a-cd0a-1479ee6ce1f7"
      },
      "execution_count": 3,
      "outputs": [
        {
          "output_type": "error",
          "ename": "Exception",
          "evalue": "ignored",
          "traceback": [
            "\u001b[0;31m---------------------------------------------------------------------------\u001b[0m",
            "\u001b[0;31mException\u001b[0m                                 Traceback (most recent call last)",
            "\u001b[0;32m<ipython-input-3-7620ee8d455c>\u001b[0m in \u001b[0;36m<cell line: 3>\u001b[0;34m()\u001b[0m\n\u001b[1;32m      1\u001b[0m \u001b[0mcharacter_99\u001b[0m \u001b[0;34m=\u001b[0m \u001b[0mapiCall\u001b[0m\u001b[0;34m(\u001b[0m\u001b[0;34m\"/people/99\"\u001b[0m\u001b[0;34m)\u001b[0m\u001b[0;34m\u001b[0m\u001b[0;34m\u001b[0m\u001b[0m\n\u001b[1;32m      2\u001b[0m \u001b[0;34m\u001b[0m\u001b[0m\n\u001b[0;32m----> 3\u001b[0;31m \u001b[0mcheck_character_99\u001b[0m \u001b[0;34m=\u001b[0m \u001b[0mcheckResponse\u001b[0m\u001b[0;34m(\u001b[0m\u001b[0mcharacter_99\u001b[0m\u001b[0;34m,\u001b[0m\u001b[0;36m200\u001b[0m\u001b[0;34m)\u001b[0m\u001b[0;34m\u001b[0m\u001b[0;34m\u001b[0m\u001b[0m\n\u001b[0m",
            "\u001b[0;32m<ipython-input-2-dbcf9a9b7e02>\u001b[0m in \u001b[0;36mcheckResponse\u001b[0;34m(response, expected_result)\u001b[0m\n\u001b[1;32m     14\u001b[0m \u001b[0;34m\u001b[0m\u001b[0m\n\u001b[1;32m     15\u001b[0m   \u001b[0;32mif\u001b[0m \u001b[0mfinal_response\u001b[0m \u001b[0;34m!=\u001b[0m \u001b[0mexpected_result\u001b[0m\u001b[0;34m:\u001b[0m\u001b[0;34m\u001b[0m\u001b[0;34m\u001b[0m\u001b[0m\n\u001b[0;32m---> 16\u001b[0;31m     \u001b[0;32mraise\u001b[0m \u001b[0mException\u001b[0m \u001b[0;34m(\u001b[0m\u001b[0;34mf\"El resultado no es correcto. El resultado debería ser {expected_result} y es {final_response}.\"\u001b[0m\u001b[0;34m)\u001b[0m\u001b[0;34m\u001b[0m\u001b[0;34m\u001b[0m\u001b[0m\n\u001b[0m",
            "\u001b[0;31mException\u001b[0m: El resultado no es correcto. El resultado debería ser 200 y es 404."
          ]
        }
      ]
    },
    {
      "cell_type": "markdown",
      "source": [
        "# Tercer Caso - Contabilizar todos los personajes"
      ],
      "metadata": {
        "id": "hGqlO7M1YG-r"
      }
    },
    {
      "cell_type": "markdown",
      "source": [
        "Para conseguir todos los personajes vamos a hacer una llamada a la api, concretamente a la tabla characters. Uno de los primeros items que salen en el resultado json es un campo llamado \"count\" que devuelve el número de entradas totales. Para automatizarlo, utilizamos la función que compara \"count\" con el número de entradas que debería tener, que por las pruebas manuales sabemos que es 82.\n"
      ],
      "metadata": {
        "id": "UgPzV6HOYPJk"
      }
    },
    {
      "cell_type": "code",
      "source": [
        "characters = apiCall(\"/people/\")\n",
        "\n",
        "characters_json = characters.json()\n",
        "\n",
        "check_characters = checkResponse(characters_json[\"count\"],82)"
      ],
      "metadata": {
        "id": "CP436DorYssL"
      },
      "execution_count": null,
      "outputs": []
    },
    {
      "cell_type": "markdown",
      "source": [
        "# Cuarto Caso - Comprobar datos en planeta 27"
      ],
      "metadata": {
        "id": "3bSMw4ffai0v"
      }
    },
    {
      "cell_type": "markdown",
      "source": [
        "Para sacar los datos del planeta 27 hacemos una llamada a la API añadiendo /planets con la id 27. Para automatizar comprobamos que nos devuelve una respuesta 200 OK. Así mismo, en caso de que no salte error imprimimos los datos."
      ],
      "metadata": {
        "id": "-ImsutOyaqmE"
      }
    },
    {
      "cell_type": "code",
      "source": [
        "planet_27 = apiCall(\"/planets/27\")\n",
        "\n",
        "check_planet_27 = checkResponse(planet_27,200)\n",
        "\n",
        "print (planet_27.json())\n"
      ],
      "metadata": {
        "id": "Y6a16CoRjZcv",
        "colab": {
          "base_uri": "https://localhost:8080/"
        },
        "outputId": "2ad43496-2a98-4480-9be2-763346baa95d"
      },
      "execution_count": null,
      "outputs": [
        {
          "output_type": "stream",
          "name": "stdout",
          "text": [
            "{'name': 'Ord Mantell', 'rotation_period': '26', 'orbital_period': '334', 'diameter': '14050', 'climate': 'temperate', 'gravity': '1 standard', 'terrain': 'plains, seas, mesas', 'surface_water': '10', 'population': '4000000000', 'residents': [], 'films': ['https://swapi.dev/api/films/2/'], 'created': '2014-12-15T12:23:41.661000Z', 'edited': '2014-12-20T20:58:18.464000Z', 'url': 'https://swapi.dev/api/planets/27/'}\n"
          ]
        }
      ]
    },
    {
      "cell_type": "markdown",
      "source": [
        "# Quinto Caso - Schemas de especies y vehículos\n"
      ],
      "metadata": {
        "id": "FvMchqeUj9Hf"
      }
    },
    {
      "cell_type": "markdown",
      "source": [
        "En esta automatización vamos a comprobar que los schemas de especies y vehículos salen de forma correcta y devuelven un código 200 OK. En caso de que no den error, se imprimen.\n",
        "\n",
        "(En este caso, los schema no funcionan en la web aunque aparecen en la documentación, con lo cual devolverán un error 404)."
      ],
      "metadata": {
        "id": "N-GsBAcRkM7t"
      }
    },
    {
      "cell_type": "code",
      "source": [
        "species_schema = apiCall(\"/species/schema\")\n",
        "\n",
        "vehicles_schema = apiCall(\"/vehicles/schema\")\n",
        "\n",
        "species_check_schema = checkResponse(species_schema,200)\n",
        "\n",
        "vehicles_check_schema = checkResponse(vehicles_schema,200)\n",
        "\n",
        "print(species_schema.json())\n",
        "\n",
        "print(vehicles_schema.json())\n"
      ],
      "metadata": {
        "id": "9U_jK45JkNg9",
        "colab": {
          "base_uri": "https://localhost:8080/",
          "height": 331
        },
        "outputId": "37eb1c80-121b-4e83-bba8-b1abe88d259c"
      },
      "execution_count": null,
      "outputs": [
        {
          "output_type": "error",
          "ename": "Exception",
          "evalue": "ignored",
          "traceback": [
            "\u001b[0;31m---------------------------------------------------------------------------\u001b[0m",
            "\u001b[0;31mException\u001b[0m                                 Traceback (most recent call last)",
            "\u001b[0;32m<ipython-input-33-59ef724e37e2>\u001b[0m in \u001b[0;36m<cell line: 5>\u001b[0;34m()\u001b[0m\n\u001b[1;32m      3\u001b[0m \u001b[0mvehicles_schema\u001b[0m \u001b[0;34m=\u001b[0m \u001b[0mapiCall\u001b[0m\u001b[0;34m(\u001b[0m\u001b[0;34m\"/vehicles/schema\"\u001b[0m\u001b[0;34m)\u001b[0m\u001b[0;34m\u001b[0m\u001b[0;34m\u001b[0m\u001b[0m\n\u001b[1;32m      4\u001b[0m \u001b[0;34m\u001b[0m\u001b[0m\n\u001b[0;32m----> 5\u001b[0;31m \u001b[0mspecies_check_schema\u001b[0m \u001b[0;34m=\u001b[0m \u001b[0mcheckResponse\u001b[0m\u001b[0;34m(\u001b[0m\u001b[0mspecies_schema\u001b[0m\u001b[0;34m,\u001b[0m\u001b[0;36m200\u001b[0m\u001b[0;34m)\u001b[0m\u001b[0;34m\u001b[0m\u001b[0;34m\u001b[0m\u001b[0m\n\u001b[0m\u001b[1;32m      6\u001b[0m \u001b[0;34m\u001b[0m\u001b[0m\n\u001b[1;32m      7\u001b[0m \u001b[0mvehicles_check_schema\u001b[0m \u001b[0;34m=\u001b[0m \u001b[0mcheckResponse\u001b[0m\u001b[0;34m(\u001b[0m\u001b[0mvehicles_schema\u001b[0m\u001b[0;34m,\u001b[0m\u001b[0;36m200\u001b[0m\u001b[0;34m)\u001b[0m\u001b[0;34m\u001b[0m\u001b[0;34m\u001b[0m\u001b[0m\n",
            "\u001b[0;32m<ipython-input-29-dbcf9a9b7e02>\u001b[0m in \u001b[0;36mcheckResponse\u001b[0;34m(response, expected_result)\u001b[0m\n\u001b[1;32m     14\u001b[0m \u001b[0;34m\u001b[0m\u001b[0m\n\u001b[1;32m     15\u001b[0m   \u001b[0;32mif\u001b[0m \u001b[0mfinal_response\u001b[0m \u001b[0;34m!=\u001b[0m \u001b[0mexpected_result\u001b[0m\u001b[0;34m:\u001b[0m\u001b[0;34m\u001b[0m\u001b[0;34m\u001b[0m\u001b[0m\n\u001b[0;32m---> 16\u001b[0;31m     \u001b[0;32mraise\u001b[0m \u001b[0mException\u001b[0m \u001b[0;34m(\u001b[0m\u001b[0;34mf\"El resultado no es correcto. El resultado debería ser {expected_result} y es {final_response}.\"\u001b[0m\u001b[0;34m)\u001b[0m\u001b[0;34m\u001b[0m\u001b[0;34m\u001b[0m\u001b[0m\n\u001b[0m",
            "\u001b[0;31mException\u001b[0m: El resultado no es correcto. El resultado debería ser 200 y es 404."
          ]
        }
      ]
    },
    {
      "cell_type": "markdown",
      "source": [
        "# Sexto Caso - ID de la película \"The Phantom Menace\""
      ],
      "metadata": {
        "id": "SCsKLF2qkN_e"
      }
    },
    {
      "cell_type": "markdown",
      "source": [
        "Para automatizar, hacemos una llamada a la api en la tabla de films añadiendo un search (?search=) y devolvemos el campo \"episode_id\". Como ya sabemos que el campo \"episode_id\" es 1, usamos la función para comprobar que el resultado sea 1 o devuelva un error.\n",
        "\n",
        "\n",
        "En el caso de que la API no hubiera contado con una utilidad de búsqueda habría sido necesario crear un script que hiciera una llamada a la API y recogiera el resultado del campo “title”. Así, si el resultado fuera “The Phantom Menace” devolvería el “episode_id”."
      ],
      "metadata": {
        "id": "Z0T2Z-8ykYRh"
      }
    },
    {
      "cell_type": "code",
      "source": [
        "movie_search = apiCall(\"/films/?search=The Phantom Menace\")\n",
        "\n",
        "movie_json = movie_search.json()\n",
        "\n",
        "movie_id = movie_json[\"results\"][0][\"episode_id\"]\n",
        "\n",
        "movie_id_check = checkResponse(movie_id,1)\n"
      ],
      "metadata": {
        "id": "EwXSzlFhkY3G"
      },
      "execution_count": null,
      "outputs": []
    },
    {
      "cell_type": "markdown",
      "source": [
        "# Séptimo Caso - Consulta en formato Wookiee"
      ],
      "metadata": {
        "id": "cQAvinWKkZS_"
      }
    },
    {
      "cell_type": "markdown",
      "source": [
        "En este caso, hacemos una consulta a la API en el apartado de people, y añadimos el formato Wookie (?format=Wookiee). A partir de aquí, cogemos el campo \"name\".\n",
        "\n",
        "En la automatización, usamos la función para comparar la key \"name\" con el nombre que hemos obtenido al hacer la prueba manual \"whrascwo\".\n",
        "\n",
        "(En esta prueba, algunas veces la funcion JSON() que viene incluida en Python3 da algún error, probablemente debido a que el uso del idioma wookiee produce problemas al interpretar el resultado en JSON)."
      ],
      "metadata": {
        "id": "0NdgVLAvkiHO"
      }
    },
    {
      "cell_type": "code",
      "source": [
        "wookie_call = apiCall(\"/people/?format=wookiee\")\n",
        "\n",
        "wookie_json = wookie_call.json()\n",
        "\n",
        "wookie_name_field = wookie_json[\"rcwochuanaoc\"][0][\"Lhuorwo Sorroohraanorworc\"]\n",
        "\n",
        "wookie_name_field_check = checkResponse(wookie_name_field,\"whrascwo\")\n"
      ],
      "metadata": {
        "id": "pcGumSsGkipS",
        "colab": {
          "base_uri": "https://localhost:8080/",
          "height": 442
        },
        "outputId": "77610ec0-b1e4-4893-def9-73d4751a6993"
      },
      "execution_count": null,
      "outputs": [
        {
          "output_type": "error",
          "ename": "JSONDecodeError",
          "evalue": "ignored",
          "traceback": [
            "\u001b[0;31m---------------------------------------------------------------------------\u001b[0m",
            "\u001b[0;31mJSONDecodeError\u001b[0m                           Traceback (most recent call last)",
            "\u001b[0;32m/usr/local/lib/python3.10/dist-packages/requests/models.py\u001b[0m in \u001b[0;36mjson\u001b[0;34m(self, **kwargs)\u001b[0m\n\u001b[1;32m    970\u001b[0m         \u001b[0;32mtry\u001b[0m\u001b[0;34m:\u001b[0m\u001b[0;34m\u001b[0m\u001b[0;34m\u001b[0m\u001b[0m\n\u001b[0;32m--> 971\u001b[0;31m             \u001b[0;32mreturn\u001b[0m \u001b[0mcomplexjson\u001b[0m\u001b[0;34m.\u001b[0m\u001b[0mloads\u001b[0m\u001b[0;34m(\u001b[0m\u001b[0mself\u001b[0m\u001b[0;34m.\u001b[0m\u001b[0mtext\u001b[0m\u001b[0;34m,\u001b[0m \u001b[0;34m**\u001b[0m\u001b[0mkwargs\u001b[0m\u001b[0;34m)\u001b[0m\u001b[0;34m\u001b[0m\u001b[0;34m\u001b[0m\u001b[0m\n\u001b[0m\u001b[1;32m    972\u001b[0m         \u001b[0;32mexcept\u001b[0m \u001b[0mJSONDecodeError\u001b[0m \u001b[0;32mas\u001b[0m \u001b[0me\u001b[0m\u001b[0;34m:\u001b[0m\u001b[0;34m\u001b[0m\u001b[0;34m\u001b[0m\u001b[0m\n",
            "\u001b[0;32m/usr/lib/python3.10/json/__init__.py\u001b[0m in \u001b[0;36mloads\u001b[0;34m(s, cls, object_hook, parse_float, parse_int, parse_constant, object_pairs_hook, **kw)\u001b[0m\n\u001b[1;32m    345\u001b[0m             parse_constant is None and object_pairs_hook is None and not kw):\n\u001b[0;32m--> 346\u001b[0;31m         \u001b[0;32mreturn\u001b[0m \u001b[0m_default_decoder\u001b[0m\u001b[0;34m.\u001b[0m\u001b[0mdecode\u001b[0m\u001b[0;34m(\u001b[0m\u001b[0ms\u001b[0m\u001b[0;34m)\u001b[0m\u001b[0;34m\u001b[0m\u001b[0;34m\u001b[0m\u001b[0m\n\u001b[0m\u001b[1;32m    347\u001b[0m     \u001b[0;32mif\u001b[0m \u001b[0mcls\u001b[0m \u001b[0;32mis\u001b[0m \u001b[0;32mNone\u001b[0m\u001b[0;34m:\u001b[0m\u001b[0;34m\u001b[0m\u001b[0;34m\u001b[0m\u001b[0m\n",
            "\u001b[0;32m/usr/lib/python3.10/json/decoder.py\u001b[0m in \u001b[0;36mdecode\u001b[0;34m(self, s, _w)\u001b[0m\n\u001b[1;32m    336\u001b[0m         \"\"\"\n\u001b[0;32m--> 337\u001b[0;31m         \u001b[0mobj\u001b[0m\u001b[0;34m,\u001b[0m \u001b[0mend\u001b[0m \u001b[0;34m=\u001b[0m \u001b[0mself\u001b[0m\u001b[0;34m.\u001b[0m\u001b[0mraw_decode\u001b[0m\u001b[0;34m(\u001b[0m\u001b[0ms\u001b[0m\u001b[0;34m,\u001b[0m \u001b[0midx\u001b[0m\u001b[0;34m=\u001b[0m\u001b[0m_w\u001b[0m\u001b[0;34m(\u001b[0m\u001b[0ms\u001b[0m\u001b[0;34m,\u001b[0m \u001b[0;36m0\u001b[0m\u001b[0;34m)\u001b[0m\u001b[0;34m.\u001b[0m\u001b[0mend\u001b[0m\u001b[0;34m(\u001b[0m\u001b[0;34m)\u001b[0m\u001b[0;34m)\u001b[0m\u001b[0;34m\u001b[0m\u001b[0;34m\u001b[0m\u001b[0m\n\u001b[0m\u001b[1;32m    338\u001b[0m         \u001b[0mend\u001b[0m \u001b[0;34m=\u001b[0m \u001b[0m_w\u001b[0m\u001b[0;34m(\u001b[0m\u001b[0ms\u001b[0m\u001b[0;34m,\u001b[0m \u001b[0mend\u001b[0m\u001b[0;34m)\u001b[0m\u001b[0;34m.\u001b[0m\u001b[0mend\u001b[0m\u001b[0;34m(\u001b[0m\u001b[0;34m)\u001b[0m\u001b[0;34m\u001b[0m\u001b[0;34m\u001b[0m\u001b[0m\n",
            "\u001b[0;32m/usr/lib/python3.10/json/decoder.py\u001b[0m in \u001b[0;36mraw_decode\u001b[0;34m(self, s, idx)\u001b[0m\n\u001b[1;32m    354\u001b[0m         \u001b[0;32mexcept\u001b[0m \u001b[0mStopIteration\u001b[0m \u001b[0;32mas\u001b[0m \u001b[0merr\u001b[0m\u001b[0;34m:\u001b[0m\u001b[0;34m\u001b[0m\u001b[0;34m\u001b[0m\u001b[0m\n\u001b[0;32m--> 355\u001b[0;31m             \u001b[0;32mraise\u001b[0m \u001b[0mJSONDecodeError\u001b[0m\u001b[0;34m(\u001b[0m\u001b[0;34m\"Expecting value\"\u001b[0m\u001b[0;34m,\u001b[0m \u001b[0ms\u001b[0m\u001b[0;34m,\u001b[0m \u001b[0merr\u001b[0m\u001b[0;34m.\u001b[0m\u001b[0mvalue\u001b[0m\u001b[0;34m)\u001b[0m \u001b[0;32mfrom\u001b[0m \u001b[0;32mNone\u001b[0m\u001b[0;34m\u001b[0m\u001b[0;34m\u001b[0m\u001b[0m\n\u001b[0m\u001b[1;32m    356\u001b[0m         \u001b[0;32mreturn\u001b[0m \u001b[0mobj\u001b[0m\u001b[0;34m,\u001b[0m \u001b[0mend\u001b[0m\u001b[0;34m\u001b[0m\u001b[0;34m\u001b[0m\u001b[0m\n",
            "\u001b[0;31mJSONDecodeError\u001b[0m: Expecting value: line 1 column 137 (char 136)",
            "\nDuring handling of the above exception, another exception occurred:\n",
            "\u001b[0;31mJSONDecodeError\u001b[0m                           Traceback (most recent call last)",
            "\u001b[0;32m<ipython-input-50-c2205081d163>\u001b[0m in \u001b[0;36m<cell line: 3>\u001b[0;34m()\u001b[0m\n\u001b[1;32m      1\u001b[0m \u001b[0mwookie_call\u001b[0m \u001b[0;34m=\u001b[0m \u001b[0mapiCall\u001b[0m\u001b[0;34m(\u001b[0m\u001b[0;34m\"/people/?format=wookiee\"\u001b[0m\u001b[0;34m)\u001b[0m\u001b[0;34m\u001b[0m\u001b[0;34m\u001b[0m\u001b[0m\n\u001b[1;32m      2\u001b[0m \u001b[0;34m\u001b[0m\u001b[0m\n\u001b[0;32m----> 3\u001b[0;31m \u001b[0mwookie_json\u001b[0m \u001b[0;34m=\u001b[0m \u001b[0mwookie_call\u001b[0m\u001b[0;34m.\u001b[0m\u001b[0mjson\u001b[0m\u001b[0;34m(\u001b[0m\u001b[0;34m)\u001b[0m\u001b[0;34m\u001b[0m\u001b[0;34m\u001b[0m\u001b[0m\n\u001b[0m\u001b[1;32m      4\u001b[0m \u001b[0;34m\u001b[0m\u001b[0m\n\u001b[1;32m      5\u001b[0m \u001b[0mwookie_name_field\u001b[0m \u001b[0;34m=\u001b[0m \u001b[0mwookie_json\u001b[0m\u001b[0;34m[\u001b[0m\u001b[0;34m\"rcwochuanaoc\"\u001b[0m\u001b[0;34m]\u001b[0m\u001b[0;34m[\u001b[0m\u001b[0;36m0\u001b[0m\u001b[0;34m]\u001b[0m\u001b[0;34m[\u001b[0m\u001b[0;34m\"Lhuorwo Sorroohraanorworc\"\u001b[0m\u001b[0;34m]\u001b[0m\u001b[0;34m\u001b[0m\u001b[0;34m\u001b[0m\u001b[0m\n",
            "\u001b[0;32m/usr/local/lib/python3.10/dist-packages/requests/models.py\u001b[0m in \u001b[0;36mjson\u001b[0;34m(self, **kwargs)\u001b[0m\n\u001b[1;32m    973\u001b[0m             \u001b[0;31m# Catch JSON-related errors and raise as requests.JSONDecodeError\u001b[0m\u001b[0;34m\u001b[0m\u001b[0;34m\u001b[0m\u001b[0m\n\u001b[1;32m    974\u001b[0m             \u001b[0;31m# This aliases json.JSONDecodeError and simplejson.JSONDecodeError\u001b[0m\u001b[0;34m\u001b[0m\u001b[0;34m\u001b[0m\u001b[0m\n\u001b[0;32m--> 975\u001b[0;31m             \u001b[0;32mraise\u001b[0m \u001b[0mRequestsJSONDecodeError\u001b[0m\u001b[0;34m(\u001b[0m\u001b[0me\u001b[0m\u001b[0;34m.\u001b[0m\u001b[0mmsg\u001b[0m\u001b[0;34m,\u001b[0m \u001b[0me\u001b[0m\u001b[0;34m.\u001b[0m\u001b[0mdoc\u001b[0m\u001b[0;34m,\u001b[0m \u001b[0me\u001b[0m\u001b[0;34m.\u001b[0m\u001b[0mpos\u001b[0m\u001b[0;34m)\u001b[0m\u001b[0;34m\u001b[0m\u001b[0;34m\u001b[0m\u001b[0m\n\u001b[0m\u001b[1;32m    976\u001b[0m \u001b[0;34m\u001b[0m\u001b[0m\n\u001b[1;32m    977\u001b[0m     \u001b[0;34m@\u001b[0m\u001b[0mproperty\u001b[0m\u001b[0;34m\u001b[0m\u001b[0;34m\u001b[0m\u001b[0m\n",
            "\u001b[0;31mJSONDecodeError\u001b[0m: Expecting value: line 1 column 137 (char 136)"
          ]
        }
      ]
    },
    {
      "cell_type": "markdown",
      "source": [
        "# Octavo Caso - Pruebas adicionales"
      ],
      "metadata": {
        "id": "UQLfJ-t7kjKG"
      }
    },
    {
      "cell_type": "markdown",
      "source": [
        "Como se menciona en el documento, vamos a automatizar también las pruebas adicionales que veo necesarias para comprobar el funcionamiento de la API.\n",
        "\n",
        "El código se comprueba uno por uno para que sea fácil de leer (aunque sería más corto si se usara un bucle para el código).\n",
        "\n",
        "* Habría que hacer una comprobación de casos límite haciendo una llamada GET a cada uno de los recursos usando las ID: 0 -1 “one” “zero” y 00 para comprobar que devuelven un error 404 y que no producen un resultado inesperado.\n",
        "\n",
        "\n",
        "\n"
      ],
      "metadata": {
        "id": "dytJ-J6Hkmy4"
      }
    },
    {
      "cell_type": "code",
      "source": [
        "character_minus_1 = apiCall(\"/people/-1\")\n",
        "character_one = apiCall(\"/people/one\")\n",
        "character_zero = apiCall(\"/people/zero\")\n",
        "character_00 = apiCall(\"/people/00\")\n",
        "character_0 = apiCall(\"/people/0\")\n",
        "\n",
        "\n",
        "check_character_minus_1 = checkResponse(character_minus_1,404)\n",
        "check_character_one = checkResponse(character_one,404)\n",
        "check_character_zero = checkResponse(character_zero,404)\n",
        "check_character_00 = checkResponse(character_00,404)\n",
        "check_character_0 = checkResponse(character_0,404)"
      ],
      "metadata": {
        "id": "9RogOQP7knfu"
      },
      "execution_count": null,
      "outputs": []
    },
    {
      "cell_type": "markdown",
      "source": [
        "Habría que hacer una llamada GET a cada uno de los recursos usando las ID: 01 y 02 para comprobar que el sistema las entiende como 1 y 2 y no provoca resultados inesperados."
      ],
      "metadata": {
        "id": "JxvbRVEMMRL9"
      }
    },
    {
      "cell_type": "code",
      "source": [
        "character_01 = apiCall(\"/people/01\")\n",
        "character_02 = apiCall(\"/people/02\")\n",
        "\n",
        "check_character_01 = checkResponse(character_01,200)\n",
        "check_character_02 = checkResponse(character_02,200)"
      ],
      "metadata": {
        "id": "16GFL5K1MTj9"
      },
      "execution_count": null,
      "outputs": []
    },
    {
      "cell_type": "markdown",
      "source": [
        "* Habría que comprobar los resultados en Wookie haciendo traducciones del contenido con un traductor online. Para este apartado, he usado un traductor online. En este caso, el código es igual al del ejercicio séptimo."
      ],
      "metadata": {
        "id": "E-0eNjmquB_S"
      }
    },
    {
      "cell_type": "markdown",
      "source": [
        "\n",
        "* Habría que comprobar lo actualizada que está la base de datos haciendo llamadas para comprobar que están las últimas películas de Star Wars. Para ello, hacemos una llamada a la api en el apartado films con las ids 7, 8 y 9.\n",
        "\n",
        "(En las pruebas manuales ya se ha visto que el resultado es un 404 porque las últimas películas no están incluidas, por eso la prueba incluye 404 en vez de 200)."
      ],
      "metadata": {
        "id": "5rgJTcUquE2Y"
      }
    },
    {
      "cell_type": "code",
      "source": [
        "def movie_id_search(id):\n",
        "  movie_search = apiCall(f\"/films/{id}\")\n",
        "  return movie_search\n",
        "\n",
        "movie_id_7 = movie_id_search(7)\n",
        "movie_id_8 = movie_id_search(8)\n",
        "movie_id_9 = movie_id_search(9)\n",
        "\n",
        "movie_id_7_check = checkResponse(movie_id_7,404)\n",
        "movie_id_8_check = checkResponse(movie_id_8,404)\n",
        "movie_id_9_check = checkResponse(movie_id_9,404)"
      ],
      "metadata": {
        "id": "MJ0vFXgGuImc"
      },
      "execution_count": null,
      "outputs": []
    }
  ]
}